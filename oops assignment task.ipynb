{
 "cells": [
  {
   "cell_type": "code",
   "execution_count": 1,
   "id": "8f4084be-556c-4220-b818-4a426bcf1c51",
   "metadata": {},
   "outputs": [],
   "source": [
    "#Q1, Create a vehicle class with an init method having instance variables as name_of_vehicle, max_speedand average_of_vehicle.\n",
    "\n",
    "\n",
    "\n",
    "class vehicle:\n",
    "    def __init__(self,name_of_vehicle,max_speed,average_of_vehicle):\n",
    "        self.name_of_vehicle=name_of_vehicle\n",
    "        self.max_speed=max_speed\n",
    "        self.average_of_vehicle=average_of_vehicle\n",
    "    def retrurn(self):\n",
    "        return  \"car specification are\" ,self.name_of_vehicle,self.max_speed,self.average_of_vehicle"
   ]
  },
  {
   "cell_type": "code",
   "execution_count": 2,
   "id": "c1ac3fb8-35af-444a-ab8f-0ca5b5122be3",
   "metadata": {},
   "outputs": [],
   "source": [
    "car1=vehicle(\"skoda\",200,12)"
   ]
  },
  {
   "cell_type": "code",
   "execution_count": 3,
   "id": "d56d412f-c6db-4cef-b5d3-d2c43156f7a7",
   "metadata": {},
   "outputs": [
    {
     "data": {
      "text/plain": [
       "('car specification are', 'skoda', 200, 12)"
      ]
     },
     "execution_count": 3,
     "metadata": {},
     "output_type": "execute_result"
    }
   ],
   "source": [
    "car1.retrurn()"
   ]
  },
  {
   "cell_type": "code",
   "execution_count": 4,
   "id": "1b1a6fc0-97d2-4d1b-a64e-a9c55025063c",
   "metadata": {},
   "outputs": [],
   "source": [
    "'''Q2. Create a child class car from the vehicle class created in Que 1, which will inherit the vehicle class.\n",
    "Create a method named seating_capacity which takes capacity as an argument and returns the name of\n",
    "the vehicle and its seating capacity.'''\n",
    "class Vehicle:\n",
    "    def __init__(self, name_of_vehicle, max_speed, average_of_vehicle, capacity):\n",
    "        self.name_of_vehicle = name_of_vehicle\n",
    "        self.max_speed = max_speed\n",
    "        self.average_of_vehicle = average_of_vehicle\n",
    "        self.capacity = capacity\n",
    "        \n",
    "    def get_specs(self):\n",
    "        return \"Vehicle specifications: Name: {}, Max speed: {}, Average: {}\".format(self.name_of_vehicle, self.max_speed, self.average_of_vehicle)\n",
    "    \n",
    "class ChildCar(Vehicle):\n",
    "    def get_capacity(self):\n",
    "        return \"Child car capacity: {}\".format(self.capacity)\n",
    "\n"
   ]
  },
  {
   "cell_type": "code",
   "execution_count": 43,
   "id": "e92c3440-eaa7-4cad-a354-3b38b8f70ba2",
   "metadata": {},
   "outputs": [],
   "source": [
    "#Q3. What is multiple inheritance? Write a python code to demonstrate multiple inheritance.\n",
    "class class1:\n",
    "    def class1(self):\n",
    "        print(\"hi this is class1\")\n",
    "\n"
   ]
  },
  {
   "cell_type": "code",
   "execution_count": 44,
   "id": "a39d3092-a4ea-44b8-bbeb-367f7ef37445",
   "metadata": {},
   "outputs": [],
   "source": [
    "class class2:\n",
    "    def class2(self):\n",
    "        print(\"hi this is class2\")"
   ]
  },
  {
   "cell_type": "code",
   "execution_count": 45,
   "id": "7e146b90-5bcc-4f06-b6ee-8706615d59fa",
   "metadata": {},
   "outputs": [],
   "source": [
    "class class3(class1,class2):\n",
    "    def class3(self):\n",
    "        print(\"hi this is class3\")"
   ]
  },
  {
   "cell_type": "code",
   "execution_count": 46,
   "id": "171f3715-69db-4b91-95c5-6b71304eec9b",
   "metadata": {},
   "outputs": [],
   "source": [
    "obj=class3()\n"
   ]
  },
  {
   "cell_type": "code",
   "execution_count": 47,
   "id": "3e2ea349-8e7b-4ca0-8315-ea138cacf244",
   "metadata": {},
   "outputs": [
    {
     "name": "stdout",
     "output_type": "stream",
     "text": [
      "hi this is class1\n"
     ]
    }
   ],
   "source": [
    "obj.class1()"
   ]
  },
  {
   "cell_type": "code",
   "execution_count": 48,
   "id": "5a8f047c-b88d-4afe-9a1e-19b8c5ab146f",
   "metadata": {},
   "outputs": [],
   "source": [
    "#Q4. What are getter and setter in python? Create a class and create a getter and a setter method in thisclass.\n",
    "\n",
    "\n",
    "'''etter and setter methods are used in object-oriented programming to control the access to the\n",
    "attributes of an object. A getter method is used to \n",
    "retrieve the value of a private attribute, while a setter method is used to set the value of a private attribute.'''\n",
    "\n",
    "\n",
    "\n",
    "\n",
    "\n",
    "class Person:\n",
    "    def __init__(self, name, age):\n",
    "        self._name = name\n",
    "        self._age = age\n",
    "        \n",
    "    @property\n",
    "    def name(self):\n",
    "        return self._name\n",
    "    \n",
    "    @name.setter\n",
    "    def name(self, value):\n",
    "        self._name = value\n",
    "        \n",
    "    @property\n",
    "    def age(self):\n",
    "        return self._age\n",
    "    \n",
    "    @age.setter\n",
    "    def age(self, value):\n",
    "        self._age = value\n"
   ]
  },
  {
   "cell_type": "code",
   "execution_count": 49,
   "id": "7a814d87-7ba5-4460-8d0e-b51d301cc606",
   "metadata": {},
   "outputs": [
    {
     "name": "stdout",
     "output_type": "stream",
     "text": [
      "Alice\n",
      "30\n"
     ]
    }
   ],
   "source": [
    "person = Person(\"Alice\", 30)\n",
    "print(person.name) \n",
    "print(person.age) \n"
   ]
  },
  {
   "cell_type": "code",
   "execution_count": 50,
   "id": "55487d61-2726-4579-8a41-4135635d41fc",
   "metadata": {},
   "outputs": [
    {
     "name": "stdout",
     "output_type": "stream",
     "text": [
      "Bob\n",
      "40\n"
     ]
    }
   ],
   "source": [
    "person.name = \"Bob\"\n",
    "person.age = 40\n",
    "print(person.name)\n",
    "print(person.age)"
   ]
  },
  {
   "cell_type": "code",
   "execution_count": 1,
   "id": "73f4ef0e-b16c-4636-9046-39920881bc3c",
   "metadata": {},
   "outputs": [],
   "source": [
    "#Q5.What is method overriding in python? Write a python code to demonstrate method overriding.\n",
    "\n",
    "'''Method overriding is a feature in object-oriented programming where a subclass provides a different\n",
    "implementation of a method that is already defined in its superclass. When a method in a subclass has\n",
    "the same name, signature, and return type as a method in its superclass, the subclass's method overrides \n",
    "the superclass's method.'''\n",
    "\n",
    "\n",
    "class Animal:\n",
    "    def make_sound(self):\n",
    "        print(\"The animal makes a sound.\")\n",
    "        \n",
    "class duck(Animal):\n",
    "    def make_sound(self):\n",
    "        print(\"quack!\")\n",
    "        \n",
    "class Dog(Animal):\n",
    "    def make_sound(self):\n",
    "        print(\"bark!\")\n"
   ]
  },
  {
   "cell_type": "code",
   "execution_count": null,
   "id": "4d40dd52-3cf6-4875-8c89-56738559bae7",
   "metadata": {},
   "outputs": [],
   "source": [
    "animal=Animal("
   ]
  }
 ],
 "metadata": {
  "kernelspec": {
   "display_name": "Python 3 (ipykernel)",
   "language": "python",
   "name": "python3"
  },
  "language_info": {
   "codemirror_mode": {
    "name": "ipython",
    "version": 3
   },
   "file_extension": ".py",
   "mimetype": "text/x-python",
   "name": "python",
   "nbconvert_exporter": "python",
   "pygments_lexer": "ipython3",
   "version": "3.10.8"
  }
 },
 "nbformat": 4,
 "nbformat_minor": 5
}
